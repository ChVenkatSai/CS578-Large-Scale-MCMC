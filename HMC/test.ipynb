{
 "cells": [
  {
   "cell_type": "code",
   "execution_count": 1,
   "metadata": {},
   "outputs": [
    {
     "name": "stdout",
     "output_type": "stream",
     "text": [
      "WARNING:tensorflow:From c:\\Python310\\lib\\site-packages\\keras\\src\\losses.py:2976: The name tf.losses.sparse_softmax_cross_entropy is deprecated. Please use tf.compat.v1.losses.sparse_softmax_cross_entropy instead.\n",
      "\n",
      "WARNING:tensorflow:From c:\\Python310\\lib\\site-packages\\tensorflow_probability\\python\\internal\\backend\\numpy\\_utils.py:48: The name tf.logging.TaskLevelStatusMessage is deprecated. Please use tf.compat.v1.logging.TaskLevelStatusMessage instead.\n",
      "\n",
      "WARNING:tensorflow:From c:\\Python310\\lib\\site-packages\\tensorflow_probability\\python\\internal\\backend\\numpy\\_utils.py:48: The name tf.control_flow_v2_enabled is deprecated. Please use tf.compat.v1.control_flow_v2_enabled instead.\n",
      "\n",
      "mean:0.0051  stddev:1.7732  acceptance:[ True  True  True ...  True False False]\n"
     ]
    }
   ],
   "source": [
    "import tensorflow as tf\n",
    "import tensorflow_probability as tfp\n",
    "from TrueDistributions import *\n",
    "\n",
    "tf.experimental.numpy.experimental_enable_numpy_behavior()\n",
    "\n",
    "mvn = MVN(tf.constant([0,0],dtype=tf.float32), tf.constant([[5,1],[0,1]],dtype=tf.float32))\n",
    "\n",
    "def unnormalized_log_prob(x):\n",
    "  return mvn.logPdf(x)\n",
    "\n",
    "# Initialize the HMC transition kernel.\n",
    "num_results = int(10e4)\n",
    "num_burnin_steps = int(1e3)\n",
    "adaptive_hmc = tfp.mcmc.SimpleStepSizeAdaptation(\n",
    "    tfp.mcmc.HamiltonianMonteCarlo(\n",
    "        target_log_prob_fn=unnormalized_log_prob,\n",
    "        num_leapfrog_steps=3,\n",
    "        step_size=1.),\n",
    "    num_adaptation_steps=int(num_burnin_steps * 0.8))\n",
    "\n",
    "# Run the chain (with burn-in).\n",
    "@tf.function\n",
    "def run_chain():\n",
    "  # Run the chain (with burn-in).\n",
    "  samples, is_accepted = tfp.mcmc.sample_chain(\n",
    "      num_results=num_results,\n",
    "      num_burnin_steps=num_burnin_steps,\n",
    "      current_state=[tf.cast([1,0], dtype=tf.float32)],\n",
    "      kernel=adaptive_hmc,\n",
    "      trace_fn=lambda _, pkr: pkr.inner_results.is_accepted)\n",
    "\n",
    "  sample_mean = tf.reduce_mean(samples)\n",
    "  sample_stddev = tf.math.reduce_std(samples)\n",
    "  # is_accepted = tf.reduce_mean(tf.cast(is_accepted, dtype=tf.float32))\n",
    "  \n",
    "  return sample_mean, sample_stddev, is_accepted, samples\n",
    "\n",
    "sample_mean, sample_stddev, is_accepted, samples = run_chain()\n",
    "\n",
    "print('mean:{:.4f}  stddev:{:.4f}  acceptance:{}'.format(\n",
    "    sample_mean.numpy(), sample_stddev.numpy(), is_accepted.numpy()))\n"
   ]
  },
  {
   "cell_type": "code",
   "execution_count": 2,
   "metadata": {},
   "outputs": [
    {
     "name": "stdout",
     "output_type": "stream",
     "text": [
      "mean:-0.0033  covariance:[[5.27124164 0.46319666]\n",
      " [0.46319666 1.27395152]]  acceptance rate:0.5283\n"
     ]
    }
   ],
   "source": [
    "from itertools import chain\n",
    "import tensorflow as tf\n",
    "import tensorflow_probability as tfp\n",
    "from TrueDistributions import *\n",
    "from ChainMakers import *\n",
    "tf.experimental.numpy.experimental_enable_numpy_behavior()\n",
    "\n",
    "mvn = MVN(tf.constant([0,0],dtype=tf.float32), tf.constant([[5,1],[0,1]],dtype=tf.float32))\n",
    "\n",
    "chain_maker = HamiltonianChainMaker(mvn,n=10**4,step_size=.2)\n",
    "\n",
    "print(chain_maker)"
   ]
  },
  {
   "cell_type": "code",
   "execution_count": 5,
   "metadata": {},
   "outputs": [
    {
     "data": {
      "text/plain": [
       "array([[-1.3288407 , -0.04148383],\n",
       "       [-0.3149916 , -0.15096769],\n",
       "       [-2.9367518 , -0.27265632],\n",
       "       [ 1.3250642 ,  0.05639231],\n",
       "       [-1.9905299 , -0.14603016],\n",
       "       [-1.5386124 , -0.31802154],\n",
       "       [-1.4419053 , -0.04407716],\n",
       "       [ 1.3071585 ,  0.03522158],\n",
       "       [ 1.5530729 ,  0.32653108],\n",
       "       [ 1.3738112 ,  0.05231094]], dtype=float32)"
      ]
     },
     "execution_count": 5,
     "metadata": {},
     "output_type": "execute_result"
    }
   ],
   "source": [
    "chain_maker.getOutput()"
   ]
  },
  {
   "cell_type": "code",
   "execution_count": 2,
   "metadata": {},
   "outputs": [
    {
     "data": {
      "text/plain": [
       "<tf.Tensor: shape=(64822, 2), dtype=float32, numpy=\n",
       "array([[ 1.4902537 ,  0.92120695],\n",
       "       [-1.2989757 ,  0.49741045],\n",
       "       [ 1.8289638 ,  0.7245625 ],\n",
       "       ...,\n",
       "       [-1.2744658 , -1.051373  ],\n",
       "       [ 2.466119  , -1.5070422 ],\n",
       "       [-3.352931  , -0.8572254 ]], dtype=float32)>"
      ]
     },
     "execution_count": 2,
     "metadata": {},
     "output_type": "execute_result"
    }
   ],
   "source": [
    "accepted_samples = samples[0][is_accepted]\n",
    "accepted_samples"
   ]
  },
  {
   "cell_type": "code",
   "execution_count": 3,
   "metadata": {},
   "outputs": [
    {
     "data": {
      "text/plain": [
       "array([[5.38467702, 0.52803709],\n",
       "       [0.52803709, 1.12108666]])"
      ]
     },
     "execution_count": 3,
     "metadata": {},
     "output_type": "execute_result"
    }
   ],
   "source": [
    "np.cov(accepted_samples.numpy().T)"
   ]
  },
  {
   "cell_type": "code",
   "execution_count": 4,
   "metadata": {},
   "outputs": [],
   "source": [
    "\n",
    "import numpy as np\n",
    "from matplotlib import animation, rc\n",
    "from IPython.display import HTML\n",
    "\n",
    "import matplotlib.pyplot as plt\n",
    "\n",
    "Writer = animation.writers['ffmpeg']\n",
    "writer = Writer(fps=15, metadata=dict(artist='Daniel Trager'), bitrate=1800)\n",
    "\n",
    "#rc('animation', html='jshtml')\n",
    "#rc('animation', embed_limit=100)"
   ]
  },
  {
   "cell_type": "code",
   "execution_count": 5,
   "metadata": {},
   "outputs": [
    {
     "data": {
      "text/plain": [
       "(2, 64822)"
      ]
     },
     "execution_count": 5,
     "metadata": {},
     "output_type": "execute_result"
    }
   ],
   "source": [
    "accepted_samples.numpy().T.shape"
   ]
  },
  {
   "cell_type": "code",
   "execution_count": 6,
   "metadata": {},
   "outputs": [
    {
     "data": {
      "image/png": "[encoded data removed]",
      "text/plain": [
       "<Figure size 600x600 with 3 Axes>"
      ]
     },
     "metadata": {},
     "output_type": "display_data"
    }
   ],
   "source": [
    "# Quickly hacked plotting code\n",
    "samples = 1000\n",
    "\n",
    "fig = plt.figure(figsize=(6, 6))\n",
    "i_width = (-5, 5)\n",
    "s_width = (-5, 5)\n",
    "samples_width = (0, samples)\n",
    "ax1 = fig.add_subplot(221, xlim=i_width, ylim=samples_width)\n",
    "ax2 = fig.add_subplot(224, xlim=samples_width, ylim=s_width)\n",
    "ax3 = fig.add_subplot(223, xlim=i_width, ylim=s_width,\n",
    "                      xlabel='x1',\n",
    "                      ylabel='x2')\n",
    "fig.subplots_adjust(wspace=0.0, hspace=0.0)\n",
    "line1, = ax1.plot([], [], lw=1)\n",
    "line2, = ax2.plot([], [], lw=1)\n",
    "line3, = ax3.plot([], [], 'o', lw=2, alpha=.1)\n",
    "line4, = ax3.plot([], [], lw=1, alpha=.3)\n",
    "line5, = ax3.plot([], [], 'k', lw=1)\n",
    "line6, = ax3.plot([], [], 'k', lw=1)\n",
    "ax1.set_xticklabels([])\n",
    "ax2.set_yticklabels([])\n",
    "#path = plt.scatter([], [])\n",
    "lines = [line1, line2, line3, line4, line5, line6]\n",
    "\n",
    "def init():\n",
    "    for line in lines:\n",
    "        line.set_data([], [])\n",
    "    return lines\n",
    "\n",
    "def animate(i):\n",
    "    # if i >= 200:\n",
    "    #     i += 300\n",
    "    current_samples = accepted_samples[:i+1].numpy().T\n",
    "    line1.set_data(current_samples[0,:], range(i+1))\n",
    "    line2.set_data(range(i+1), current_samples[1,:])\n",
    "    line3.set_data(current_samples[0,:], current_samples[1,:])\n",
    "    line4.set_data(current_samples[0,:], current_samples[1,:])\n",
    "    curr_x, curr_y = current_samples[1,-1], current_samples[0,-1]\n",
    "    line5.set_data([curr_y, curr_y], [curr_x, s_width[1]])\n",
    "    line6.set_data([curr_y, i_width[1]], [curr_x, curr_x])\n",
    "    return lines"
   ]
  },
  {
   "cell_type": "code",
   "execution_count": 7,
   "metadata": {},
   "outputs": [],
   "source": [
    "anim = animation.FuncAnimation(fig, animate, init_func=init,\n",
    "                               frames=samples, interval=5, blit=True)\n",
    "\n",
    "anim.save('hmc.mp4', writer=writer)"
   ]
  }
 ],
 "metadata": {
  "kernelspec": {
   "display_name": "Python 3",
   "language": "python",
   "name": "python3"
  },
  "language_info": {
   "codemirror_mode": {
    "name": "ipython",
    "version": 3
   },
   "file_extension": ".py",
   "mimetype": "text/x-python",
   "name": "python",
   "nbconvert_exporter": "python",
   "pygments_lexer": "ipython3",
   "version": "3.10.10"
  }
 },
 "nbformat": 4,
 "nbformat_minor": 2
}
